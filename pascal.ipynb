{
 "cells": [
  {
   "cell_type": "code",
   "execution_count": 1,
   "metadata": {},
   "outputs": [
    {
     "name": "stdout",
     "output_type": "stream",
     "text": [
      "                                    1 \n",
      "                                 1      1 \n",
      "                              1      2      1 \n",
      "                           1      3      3      1 \n",
      "                        1      4      6      4      1 \n",
      "                     1      5     10     10      5      1 \n",
      "                  1      6     15     20     15      6      1 \n",
      "               1      7     21     35     35     21      7      1 \n",
      "            1      8     28     56     70     56     28      8      1 \n",
      "         1      9     36     84    126    126     84     36      9      1 \n"
     ]
    }
   ],
   "source": [
    "rows = int(input(\"파스칼의 삼각형을 출력할 행의 개수를 입력하세요> \"))\n",
    "lst=[]\n",
    "\n",
    "for i in range(rows):\n",
    "    lst.append([])\n",
    "    lst[i].append(1)\n",
    "    \n",
    "    for j in range(1, i):\n",
    "        lst[i].append(lst[i-1][j-1]+lst[i-1][j])\n",
    "        \n",
    "    if(rows != 0):\n",
    "        lst[i].append(1)\n",
    "        \n",
    "for i in range(rows):\n",
    "    print(\"   \" * (rows - i), end=\" \", sep=\" \")\n",
    "    for j in range(0, i+1):\n",
    "        print('{0:6}'.format(lst[i][j]), end=\" \", sep=\" \")\n",
    "    print()"
   ]
  },
  {
   "cell_type": "code",
   "execution_count": 12,
   "metadata": {},
   "outputs": [
    {
     "name": "stdout",
     "output_type": "stream",
     "text": [
      "        [1]        \n",
      "     [1, 2, 3]     \n",
      "[1, 23, 4, 5, 6, 7]\n",
      "[1, 2, 3]\n"
     ]
    }
   ],
   "source": [
    "list_1 = [[1],[1,2,3],[1,23,4,5,6,7]]\n",
    "a=len(str(list_1[-1]))\n",
    "list_2 = [1,2,3,4,5,6]\n",
    "for i in range(3):\n",
    "    str_1 = str(list_1[i][:])\n",
    "    print(f'{str_1:^{a}}')\n",
    "\n",
    "print(list_1[1][:])"
   ]
  },
  {
   "cell_type": "code",
   "execution_count": 26,
   "metadata": {},
   "outputs": [
    {
     "name": "stdout",
     "output_type": "stream",
     "text": [
      "['1', '23', '4', '5', '6', '7']\n"
     ]
    }
   ],
   "source": [
    "list_1 = [[1],[1,2,3],[1,23,4,5,6,7]]\n",
    "list_2 = []\n",
    "list_3 = []\n",
    "for i in range(3):\n",
    "    list_2.clear()\n",
    "    for j in range(len(list_1[i])):\n",
    "        list_2.append(str(list_1[i][j]))\n",
    "        \n",
    "    list_3 = list_2[:]\n",
    "print(list_3)"
   ]
  },
  {
   "cell_type": "code",
   "execution_count": null,
   "metadata": {},
   "outputs": [],
   "source": []
  }
 ],
 "metadata": {
  "kernelspec": {
   "display_name": "Python 3.9.12 ('base')",
   "language": "python",
   "name": "python3"
  },
  "language_info": {
   "codemirror_mode": {
    "name": "ipython",
    "version": 3
   },
   "file_extension": ".py",
   "mimetype": "text/x-python",
   "name": "python",
   "nbconvert_exporter": "python",
   "pygments_lexer": "ipython3",
   "version": "3.9.12"
  },
  "orig_nbformat": 4,
  "vscode": {
   "interpreter": {
    "hash": "263930470851f494f0ed2879c35b57985588df20f9e529b86e97dd5eb9ddc466"
   }
  }
 },
 "nbformat": 4,
 "nbformat_minor": 2
}
