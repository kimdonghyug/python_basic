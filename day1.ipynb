{
 "cells": [
  {
   "cell_type": "code",
   "execution_count": 3,
   "metadata": {},
   "outputs": [
    {
     "name": "stdout",
     "output_type": "stream",
     "text": [
      "2500 원\n"
     ]
    }
   ],
   "source": [
    "price = 2500\n",
    "print(\"{} 원\".format(price))"
   ]
  },
  {
   "cell_type": "code",
   "execution_count": 5,
   "metadata": {},
   "outputs": [
    {
     "name": "stdout",
     "output_type": "stream",
     "text": [
      "3x2=6\n"
     ]
    }
   ],
   "source": [
    "print('{1}x{0}={2}'.format(2,3,6))"
   ]
  },
  {
   "cell_type": "code",
   "execution_count": 8,
   "metadata": {},
   "outputs": [
    {
     "name": "stdout",
     "output_type": "stream",
     "text": [
      "wqewds              \n",
      "              wqewds\n",
      "       wqewds       \n",
      "AAAAAAAwqewdsAAAAAAA\n"
     ]
    }
   ],
   "source": [
    "print('{0:<20}'.format(\"wqewds\"))\n",
    "print('{0:>20}'.format(\"wqewds\"))\n",
    "print('{0:^20}'.format(\"wqewds\"))\n",
    "print('{0:A^20}'.format(\"wqewds\"))"
   ]
  },
  {
   "cell_type": "code",
   "execution_count": 9,
   "metadata": {},
   "outputs": [
    {
     "name": "stdout",
     "output_type": "stream",
     "text": [
      "   3.14159\n"
     ]
    }
   ],
   "source": [
    "pi = 3.141592\n",
    "print(f'{pi:10.5f}')"
   ]
  },
  {
   "cell_type": "code",
   "execution_count": 10,
   "metadata": {},
   "outputs": [
    {
     "name": "stdout",
     "output_type": "stream",
     "text": [
      "I like python and java\n"
     ]
    }
   ],
   "source": [
    "print(\"I like %s and %s\"%('python','java'))"
   ]
  },
  {
   "cell_type": "code",
   "execution_count": 12,
   "metadata": {},
   "outputs": [
    {
     "name": "stdout",
     "output_type": "stream",
     "text": [
      "i love\n",
      "python\n"
     ]
    }
   ],
   "source": [
    "print(\"i\",\"love\")\n",
    "print(\"python\")"
   ]
  },
  {
   "cell_type": "code",
   "execution_count": 17,
   "metadata": {},
   "outputs": [
    {
     "name": "stdout",
     "output_type": "stream",
     "text": [
      "iaqloveaqpython !!!\n"
     ]
    }
   ],
   "source": [
    "print(\"i\",\"love\",\"python\",end=' ',sep='aq')\n",
    "print(\"!!!\")"
   ]
  },
  {
   "cell_type": "code",
   "execution_count": 18,
   "metadata": {},
   "outputs": [
    {
     "name": "stdout",
     "output_type": "stream",
     "text": [
      "Wellcome 김동혁\n"
     ]
    }
   ],
   "source": [
    "name = input(\"이름\")\n",
    "print(\"Wellcome\", name)"
   ]
  },
  {
   "cell_type": "code",
   "execution_count": 21,
   "metadata": {},
   "outputs": [
    {
     "name": "stdout",
     "output_type": "stream",
     "text": [
      "your age is 17\n"
     ]
    }
   ],
   "source": [
    "age =input (\"how old are you\")\n",
    "print(f'your age is {age}')"
   ]
  },
  {
   "cell_type": "code",
   "execution_count": 22,
   "metadata": {},
   "outputs": [
    {
     "name": "stdout",
     "output_type": "stream",
     "text": [
      "입력한 두숫자\n",
      "두수의 합3\n"
     ]
    }
   ],
   "source": [
    "print(\"입력한 두숫자\")\n",
    "n1 = int(input(\"숫자1\"))\n",
    "n2 = int(input(\"숫자2\"))\n",
    "print(f\"두수의 합{n1 + n2}\")"
   ]
  },
  {
   "cell_type": "code",
   "execution_count": 31,
   "metadata": {},
   "outputs": [
    {
     "name": "stdout",
     "output_type": "stream",
     "text": [
      "평균;8.00\n",
      "8.00\n",
      "8.00\n"
     ]
    }
   ],
   "source": [
    "math = int(input('수학점수;'))\n",
    "eng = int(input('영어점수;'))\n",
    "mot = int(input(\"국어점수;\"))\n",
    "avg = (math+eng+mot)/3\n",
    "print(f\"평균;{avg:.2f}\")\n",
    "print(\"%.2f\" %(avg))\n",
    "print(\"{:.2f}\".format(avg))"
   ]
  },
  {
   "cell_type": "code",
   "execution_count": 32,
   "metadata": {},
   "outputs": [
    {
     "name": "stdout",
     "output_type": "stream",
     "text": [
      "4은 짝수\n"
     ]
    }
   ],
   "source": [
    "n = 4\n",
    "print('{}은 {}'.format(n,'짝수' if n%2 ==0 else '홀수')) "
   ]
  },
  {
   "cell_type": "code",
   "execution_count": 34,
   "metadata": {},
   "outputs": [],
   "source": [
    "promot = \"\"\"\n",
    "    1.추가\n",
    "    2.삭제\n",
    "    3.목록\n",
    "    4.종료\n",
    "    번호를 입력하세요:\n",
    "\"\"\"\n",
    "\n",
    "while 1:\n",
    "    n = int(input(promot))\n",
    "    if n==4:\n",
    "        break"
   ]
  },
  {
   "cell_type": "code",
   "execution_count": 38,
   "metadata": {},
   "outputs": [
    {
     "name": "stdout",
     "output_type": "stream",
     "text": [
      "1~100까지의 수중에서 3의 배수가 아닌 수들의 합은 37\n"
     ]
    }
   ],
   "source": [
    "num = 0\n",
    "hap = 0\n",
    "while num < 10:\n",
    "    num +=1\n",
    "    if num %3 == 0:\n",
    "        continue\n",
    "        \n",
    "    hap += num \n",
    "print(f\"1~100까지의 수중에서 3의 배수가 아닌 수들의 합은 {hap}\")"
   ]
  },
  {
   "cell_type": "code",
   "execution_count": 39,
   "metadata": {},
   "outputs": [
    {
     "name": "stdout",
     "output_type": "stream",
     "text": [
      "7X1=7\n",
      "7 X 1 = 7\n",
      "7X2=14\n",
      "7 X 2 = 14\n",
      "7X3=21\n",
      "7 X 3 = 21\n",
      "7X4=28\n",
      "7 X 4 = 28\n",
      "7X5=35\n",
      "7 X 5 = 35\n",
      "7X6=42\n",
      "7 X 6 = 42\n",
      "7X7=49\n",
      "7 X 7 = 49\n",
      "7X8=56\n",
      "7 X 8 = 56\n",
      "7X9=63\n",
      "7 X 9 = 63\n"
     ]
    }
   ],
   "source": [
    "dan = int(input(\"몇단\"))\n",
    "i = 0\n",
    "while i<9:\n",
    "    i+=1\n",
    "    print(f\"{dan}X{i}={dan*i}\")\n",
    "    print(\"{} X {} = {}\".format(dan, i, dan*i))"
   ]
  },
  {
   "cell_type": "code",
   "execution_count": 40,
   "metadata": {},
   "outputs": [
    {
     "name": "stdout",
     "output_type": "stream",
     "text": [
      "0\n",
      "2\n",
      "4\n",
      "6\n",
      "8\n",
      "10\n",
      "12\n",
      "14\n",
      "16\n",
      "18\n",
      "20\n"
     ]
    }
   ],
   "source": [
    "for i in range(0,22,2):\n",
    "    print(i)"
   ]
  },
  {
   "cell_type": "code",
   "execution_count": 43,
   "metadata": {},
   "outputs": [
    {
     "name": "stdout",
     "output_type": "stream",
     "text": [
      "10\n",
      "11\n",
      "12\n",
      "13\n",
      "14\n",
      "15\n",
      "16\n",
      "17\n",
      "18\n",
      "19\n",
      "20\n",
      "21\n"
     ]
    }
   ],
   "source": [
    "for i in range(0,22):#range(22) \n",
    "    print(i)"
   ]
  },
  {
   "cell_type": "code",
   "execution_count": 44,
   "metadata": {},
   "outputs": [
    {
     "name": "stdout",
     "output_type": "stream",
     "text": [
      "10 55\n"
     ]
    }
   ],
   "source": [
    "num = int(input('give number:'))\n",
    "sum = 0\n",
    "for i in range(num+1):\n",
    "    sum += i\n",
    "print(f'{num} {sum}')"
   ]
  },
  {
   "cell_type": "code",
   "execution_count": 45,
   "metadata": {},
   "outputs": [
    {
     "name": "stdout",
     "output_type": "stream",
     "text": [
      "5X1=  5\n",
      "5X2= 10\n",
      "5X3= 15\n",
      "5X4= 20\n",
      "5X5= 25\n",
      "5X6= 30\n",
      "5X7= 35\n",
      "5X8= 40\n",
      "5X9= 45\n"
     ]
    }
   ],
   "source": [
    "dan = int(input('단을 입력하세요'))\n",
    "for i in range(1,10):\n",
    "    print('{0}X{1}= {2:>2}'.format(dan, i, dan*i))"
   ]
  },
  {
   "cell_type": "code",
   "execution_count": 50,
   "metadata": {},
   "outputs": [
    {
     "name": "stdout",
     "output_type": "stream",
     "text": [
      "2X1=  2    2X2=  4    2X3=  6    2X4=  8    2X5= 10    2X6= 12    2X7= 14    2X8= 16    2X9= 18    \n",
      "3X1=  3    3X2=  6    3X3=  9    3X4= 12    3X5= 15    3X6= 18    3X7= 21    3X8= 24    3X9= 27    \n",
      "4X1=  4    4X2=  8    4X3= 12    4X4= 16    4X5= 20    4X6= 24    4X7= 28    4X8= 32    4X9= 36    \n",
      "5X1=  5    5X2= 10    5X3= 15    5X4= 20    5X5= 25    5X6= 30    5X7= 35    5X8= 40    5X9= 45    \n",
      "6X1=  6    6X2= 12    6X3= 18    6X4= 24    6X5= 30    6X6= 36    6X7= 42    6X8= 48    6X9= 54    \n",
      "7X1=  7    7X2= 14    7X3= 21    7X4= 28    7X5= 35    7X6= 42    7X7= 49    7X8= 56    7X9= 63    \n",
      "8X1=  8    8X2= 16    8X3= 24    8X4= 32    8X5= 40    8X6= 48    8X7= 56    8X8= 64    8X9= 72    \n",
      "9X1=  9    9X2= 18    9X3= 27    9X4= 36    9X5= 45    9X6= 54    9X7= 63    9X8= 72    9X9= 81    \n"
     ]
    }
   ],
   "source": [
    "dan, i = 0,0\n",
    "for dan in range(2,10):\n",
    "    for i in range(1,10):\n",
    "        print('{0}X{1}= {2:>2}'.format(dan, i, dan*i), end=\"    \")\n",
    "    print()"
   ]
  },
  {
   "cell_type": "code",
   "execution_count": 57,
   "metadata": {},
   "outputs": [
    {
     "name": "stdout",
     "output_type": "stream",
     "text": [
      "2X1=  2    3X1=  3    4X1=  4    5X1=  5    6X1=  6    7X1=  7    8X1=  8    9X1=  9    \n",
      "2X2=  4    3X2=  6    4X2=  8    5X2= 10    6X2= 12    7X2= 14    8X2= 16    9X2= 18    \n",
      "2X3=  6    3X3=  9    4X3= 12    5X3= 15    6X3= 18    7X3= 21    8X3= 24    9X3= 27    \n",
      "2X4=  8    3X4= 12    4X4= 16    5X4= 20    6X4= 24    7X4= 28    8X4= 32    9X4= 36    \n",
      "2X5= 10    3X5= 15    4X5= 20    5X5= 25    6X5= 30    7X5= 35    8X5= 40    9X5= 45    \n",
      "2X6= 12    3X6= 18    4X6= 24    5X6= 30    6X6= 36    7X6= 42    8X6= 48    9X6= 54    \n",
      "2X7= 14    3X7= 21    4X7= 28    5X7= 35    6X7= 42    7X7= 49    8X7= 56    9X7= 63    \n",
      "2X8= 16    3X8= 24    4X8= 32    5X8= 40    6X8= 48    7X8= 56    8X8= 64    9X8= 72    \n",
      "2X9= 18    3X9= 27    4X9= 36    5X9= 45    6X9= 54    7X9= 63    8X9= 72    9X9= 81    \n"
     ]
    }
   ],
   "source": [
    "dan, i = 0,0\n",
    "for i in range(1,10):\n",
    "    for dan in range(2,10):\n",
    "        print('{0}X{1}= {2:>2}'.format(dan, i, dan*i), end=\"    \")\n",
    "    print()"
   ]
  },
  {
   "cell_type": "code",
   "execution_count": null,
   "metadata": {},
   "outputs": [],
   "source": []
  }
 ],
 "metadata": {
  "kernelspec": {
   "display_name": "Python 3.9.12 ('base')",
   "language": "python",
   "name": "python3"
  },
  "language_info": {
   "codemirror_mode": {
    "name": "ipython",
    "version": 3
   },
   "file_extension": ".py",
   "mimetype": "text/x-python",
   "name": "python",
   "nbconvert_exporter": "python",
   "pygments_lexer": "ipython3",
   "version": "3.9.12"
  },
  "orig_nbformat": 4,
  "vscode": {
   "interpreter": {
    "hash": "263930470851f494f0ed2879c35b57985588df20f9e529b86e97dd5eb9ddc466"
   }
  }
 },
 "nbformat": 4,
 "nbformat_minor": 2
}
